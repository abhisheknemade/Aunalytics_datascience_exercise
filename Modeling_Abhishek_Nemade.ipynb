{
 "cells": [
  {
   "cell_type": "markdown",
   "metadata": {},
   "source": [
    "# Aunalytics Data Science Exercise"
   ]
  },
  {
   "cell_type": "code",
   "execution_count": 1,
   "metadata": {},
   "outputs": [
    {
     "name": "stderr",
     "output_type": "stream",
     "text": [
      "Using TensorFlow backend.\n"
     ]
    }
   ],
   "source": [
    "import numpy as np\n",
    "import pandas as pd\n",
    "import matplotlib.pyplot as plt\n",
    "import sklearn\n",
    "from sklearn.model_selection import train_test_split,RandomizedSearchCV,validation_curve\n",
    "from sklearn.preprocessing import LabelEncoder\n",
    "from sklearn.model_selection import RepeatedStratifiedKFold,GridSearchCV\n",
    "import seaborn as sns\n",
    "from sklearn.linear_model import LogisticRegression\n",
    "from sklearn.neighbors import KNeighborsClassifier\n",
    "from sklearn.ensemble import GradientBoostingClassifier,RandomForestClassifier\n",
    "from imblearn.over_sampling import SMOTE\n",
    "from sklearn.svm import SVC\n",
    "from sklearn.metrics import classification_report, confusion_matrix  \n",
    "from sklearn.naive_bayes import GaussianNB\n",
    "from xgboost import XGBClassifier\n",
    "from sklearn.metrics import roc_curve,roc_auc_score,f1_score\n",
    "import warnings\n",
    "warnings.simplefilter('ignore')"
   ]
  },
  {
   "cell_type": "markdown",
   "metadata": {},
   "source": [
    "# 1. Importing data sets"
   ]
  },
  {
   "cell_type": "code",
   "execution_count": 2,
   "metadata": {},
   "outputs": [],
   "source": [
    "train = pd.read_csv('au_train.csv',sep =',')\n",
    "test =  pd.read_csv('au_test.csv',sep = ',')"
   ]
  },
  {
   "cell_type": "markdown",
   "metadata": {},
   "source": [
    "# 2. Training data preparation\n",
    "\n",
    "Here we explore the data set for any changes/imputations to be made. Please refer to the segmentation study for futher details on these steps.\n",
    "\n",
    "Encoding of response variable is done\n",
    "\n",
    "Data types of variables are set to appropriate ones\n",
    "\n",
    "Missing values are imputed\n",
    "\n"
   ]
  },
  {
   "cell_type": "code",
   "execution_count": 3,
   "metadata": {},
   "outputs": [],
   "source": [
    "#Encoding the response variable to 0 and 1\n",
    "train = train.sample(frac=1).reset_index(drop=True)\n",
    "train['income'] = 0\n",
    "train['income'][train['class'] == ' <=50K'] = 0\n",
    "train['income'][train['class'] == ' >50K'] = 1\n",
    "\n",
    "train = train.drop(['class'],axis = 1)\n"
   ]
  },
  {
   "cell_type": "code",
   "execution_count": null,
   "metadata": {
    "scrolled": true
   },
   "outputs": [],
   "source": [
    "train.head()"
   ]
  },
  {
   "cell_type": "code",
   "execution_count": 4,
   "metadata": {},
   "outputs": [
    {
     "name": "stdout",
     "output_type": "stream",
     "text": [
      "age                  int64\n",
      "workclass         category\n",
      "fnlwgt               int64\n",
      "education         category\n",
      "education-num        int64\n",
      "marital-status    category\n",
      "occupation        category\n",
      "relationship      category\n",
      "race              category\n",
      "sex               category\n",
      "capital-gain         int64\n",
      "capital-loss         int64\n",
      "hours-per-week       int64\n",
      "native-country    category\n",
      "income               int64\n",
      "dtype: object\n"
     ]
    },
    {
     "data": {
      "text/plain": [
       "age                  0\n",
       "workclass         1836\n",
       "fnlwgt               0\n",
       "education            0\n",
       "education-num        0\n",
       "marital-status       0\n",
       "occupation        1843\n",
       "relationship         0\n",
       "race                 0\n",
       "sex                  0\n",
       "capital-gain         0\n",
       "capital-loss         0\n",
       "hours-per-week       0\n",
       "native-country     583\n",
       "income               0\n",
       "dtype: int64"
      ]
     },
     "execution_count": 4,
     "metadata": {},
     "output_type": "execute_result"
    }
   ],
   "source": [
    "#Changing data types\n",
    "train[['workclass', 'education','marital-status','occupation','relationship','race','sex','native-country']] = train[['workclass', 'education','marital-status','occupation','relationship','race','sex','native-country']].astype('category') \n",
    "print(train.dtypes)\n",
    "#Replacing ? with NULL\n",
    "train.replace(' ?', np.nan, inplace= True)\n",
    "train.isnull().sum(axis=0)"
   ]
  },
  {
   "cell_type": "code",
   "execution_count": 5,
   "metadata": {
    "scrolled": true
   },
   "outputs": [],
   "source": [
    "#Imputing NULL values by adding new categories\n",
    "train['workclass'] = train['workclass'].cat.add_categories('None')\n",
    "train['workclass'].fillna('None', inplace =True) \n",
    "train['occupation'] = train['occupation'].cat.add_categories('Unemployed')\n",
    "train['occupation'].fillna('Unemployed', inplace =True) \n",
    "train['native-country'] = train['native-country'].cat.add_categories('Unknown')\n",
    "train['native-country'].fillna('Unknown', inplace =True)"
   ]
  },
  {
   "cell_type": "markdown",
   "metadata": {},
   "source": [
    "## 2.1. One-Hot Encoding For Categorical Values"
   ]
  },
  {
   "cell_type": "code",
   "execution_count": 6,
   "metadata": {},
   "outputs": [],
   "source": [
    "X = train.loc[:, train.columns != 'income']\n",
    "Y = train['income']\n",
    "Y = Y.astype('category')\n",
    "label = LabelEncoder()\n",
    "X = X.drop(columns = ['native-country'],axis = 1) #Dropping 'native-country'\n",
    "X_enc = X.select_dtypes(include = ['category'])\n",
    "X_enc = pd.get_dummies(X_enc,columns = ['workclass','education','marital-status','occupation','relationship',\n",
    "                                       'race','sex'])\n",
    "X_copy = X.drop(columns = ['workclass','education','marital-status','occupation','relationship',\n",
    "                                       'race','sex'],axis = 1)\n",
    "X_enc = X_enc.apply(label.fit_transform)\n",
    "X_final = pd.concat([X_copy,X_enc],axis = 1)"
   ]
  },
  {
   "cell_type": "code",
   "execution_count": null,
   "metadata": {},
   "outputs": [],
   "source": [
    "#X.info()"
   ]
  },
  {
   "cell_type": "markdown",
   "metadata": {},
   "source": [
    "## 2.2. Splitting dataset into Training and Validation data sets\n",
    "\n",
    "Training data: 70%\n",
    "    \n",
    "Validation data: 30%"
   ]
  },
  {
   "cell_type": "code",
   "execution_count": 7,
   "metadata": {},
   "outputs": [],
   "source": [
    "np.random.seed(123)\n",
    "X_train, X_val, Y_train, Y_val = train_test_split(X_final,Y,test_size = 0.3,stratify = Y)"
   ]
  },
  {
   "cell_type": "code",
   "execution_count": 8,
   "metadata": {},
   "outputs": [],
   "source": [
    "# Creating a function to plot ROC curve \n",
    "def plot_roc_curve(fper, tper):  \n",
    "    plt.plot(fper, tper, color='orange', label='ROC')\n",
    "    plt.plot([0, 1], [0, 1], color='darkblue', linestyle='--')\n",
    "    plt.xlabel('False Positive Rate')\n",
    "    plt.ylabel('True Positive Rate')\n",
    "    plt.title('Receiver Operating Characteristic (ROC) Curve')\n",
    "    plt.legend()\n",
    "    plt.show()"
   ]
  },
  {
   "cell_type": "markdown",
   "metadata": {},
   "source": [
    "# 3. Modeling\n",
    "\n",
    "Models used are Logistic regression, KNN, support vector classifier, random forests, gradient boosting, naive bayes, extreme gradient boosting.\n",
    "\n",
    "Hyperparameters are tuned for all the models, though, cross-validation was not used for hyperparameter tuning apart from logistic regression because of lack of computing power."
   ]
  },
  {
   "cell_type": "markdown",
   "metadata": {},
   "source": [
    "### Model - 1 : Logistic Regression"
   ]
  },
  {
   "cell_type": "code",
   "execution_count": null,
   "metadata": {},
   "outputs": [],
   "source": [
    "#Hyperparameter tuning\n",
    "penalty = ['l2']\n",
    "c_values = [100, 10, 1.0, 0.1, 0.01]\n",
    "grid = dict(penalty=penalty,C=c_values)\n",
    "cv = RepeatedStratifiedKFold(n_splits=10, n_repeats=3, random_state=1)\n",
    "grid_search = GridSearchCV(estimator=LogisticRegression(), param_grid=grid, n_jobs=-1, cv=cv, scoring='accuracy',error_score=0)\n",
    "grid_result = grid_search.fit(X_train, Y_train)\n",
    "print(\"Best: %f using %s\" % (grid_result.best_score_, grid_result.best_params_))"
   ]
  },
  {
   "cell_type": "code",
   "execution_count": 9,
   "metadata": {},
   "outputs": [
    {
     "name": "stdout",
     "output_type": "stream",
     "text": [
      "Accuracy of Logistic regression classifier on training set: 0.80\n",
      "Accuracy of Logistic regression classifier on validation set: 0.80\n"
     ]
    }
   ],
   "source": [
    "#Using best model\n",
    "lr = LogisticRegression(C=1,penalty='l2')\n",
    "lr.fit(X_train,Y_train)\n",
    "\n",
    "print('Accuracy of Logistic regression classifier on training set: {:.2f}'\n",
    "     .format(lr.score(X_train, Y_train)))\n",
    "print('Accuracy of Logistic regression classifier on validation set: {:.2f}'\n",
    "     .format(lr.score(X_val, Y_val)))"
   ]
  },
  {
   "cell_type": "code",
   "execution_count": 10,
   "metadata": {},
   "outputs": [
    {
     "name": "stdout",
     "output_type": "stream",
     "text": [
      "0.8\n"
     ]
    }
   ],
   "source": [
    "lr_acc = round((lr.score(X_val, Y_val)),2)\n",
    "print(lr_acc)"
   ]
  },
  {
   "cell_type": "code",
   "execution_count": 11,
   "metadata": {},
   "outputs": [
    {
     "name": "stdout",
     "output_type": "stream",
     "text": [
      "AUC for logistic regression: 0.57\n",
      "F1 score for logistic regrssion: 0.38\n"
     ]
    }
   ],
   "source": [
    "#Performance metrics\n",
    "probs_lr = lr.predict_proba(X_val)  \n",
    "probs_lr = probs_lr[:, 1]  \n",
    "fper, tper, thresholds = roc_curve(Y_val, probs_lr) \n",
    "#plot_roc_curve(fper, tper)\n",
    "auc_lr = roc_auc_score(Y_val, probs_lr)\n",
    "print('AUC for logistic regression: %.2f' % auc_lr)\n",
    "y_pred = lr.predict(X_val)\n",
    "f1_lr = f1_score(y_pred, Y_val)\n",
    "print('F1 score for logistic regrssion: %.2f' % f1_lr)"
   ]
  },
  {
   "cell_type": "markdown",
   "metadata": {},
   "source": [
    "### Model - 2 : K-Nearest Neighbours"
   ]
  },
  {
   "cell_type": "code",
   "execution_count": 12,
   "metadata": {
    "scrolled": true
   },
   "outputs": [
    {
     "name": "stdout",
     "output_type": "stream",
     "text": [
      "Accuracy of K-NN classifier on training set: 0.83\n",
      "Accuracy of K-NN classifier on validation set: 0.78\n"
     ]
    }
   ],
   "source": [
    "#Applying model with default parameters\n",
    "knn = KNeighborsClassifier()\n",
    "knn.fit(X_train, Y_train)\n",
    "print('Accuracy of K-NN classifier on training set: {:.2f}'\n",
    "     .format(knn.score(X_train, Y_train)))\n",
    "print('Accuracy of K-NN classifier on validation set: {:.2f}'\n",
    "     .format(knn.score(X_val, Y_val)))"
   ]
  },
  {
   "cell_type": "code",
   "execution_count": 13,
   "metadata": {},
   "outputs": [
    {
     "name": "stdout",
     "output_type": "stream",
     "text": [
      "0.78\n"
     ]
    }
   ],
   "source": [
    "knn_acc = round((knn.score(X_val, Y_val)),2)\n",
    "print(knn_acc)"
   ]
  },
  {
   "cell_type": "code",
   "execution_count": 14,
   "metadata": {},
   "outputs": [
    {
     "name": "stdout",
     "output_type": "stream",
     "text": [
      "AUC for KNN: 0.67\n",
      "F1 score for KNN: 0.40\n"
     ]
    }
   ],
   "source": [
    "#Performance metrics\n",
    "probs_knn = knn.predict_proba(X_val)  \n",
    "probs_knn = probs_knn[:, 1]  \n",
    "fper, tper, thresholds = roc_curve(Y_val, probs_knn) \n",
    "#plot_roc_curve(fper, tper)\n",
    "auc_knn = roc_auc_score(Y_val, probs_knn)\n",
    "print('AUC for KNN: %.2f' % auc_knn)\n",
    "y_pred = knn.predict(X_val)\n",
    "f1_knn = f1_score(y_pred, Y_val)\n",
    "print('F1 score for KNN: %.2f' % f1_knn)"
   ]
  },
  {
   "cell_type": "markdown",
   "metadata": {},
   "source": [
    "### Model - 3 : Random Forest"
   ]
  },
  {
   "cell_type": "markdown",
   "metadata": {},
   "source": [
    "Learning curve for number of trees was plotted to check for optimal number of trees"
   ]
  },
  {
   "cell_type": "code",
   "execution_count": null,
   "metadata": {},
   "outputs": [],
   "source": [
    "#Hyperparameter tuning\n",
    "num_est = [10,50,100,500]\n",
    "train_scoreNum, test_scoreNum = validation_curve(\n",
    "                                RandomForestClassifier(),\n",
    "                                X = X_train, y = Y_train, \n",
    "                                param_name = 'n_estimators', \n",
    "                                param_range = num_est, cv = 3)\n",
    "param_range = [10,50,100,500]\n",
    "train_mean = np.mean(train_scoreNum, axis=1)\n",
    "train_std = np.std(train_scoreNum, axis=1)\n",
    "\n",
    "test_mean = np.mean(test_scoreNum, axis=1)\n",
    "test_std = np.std(test_scoreNum, axis=1)\n",
    "\n",
    "plt.plot(num_est, train_mean, label=\"Training score\", color=\"black\")\n",
    "plt.plot(num_est, test_mean, label=\"Testing score\", color=\"dimgrey\")\n",
    "plt.fill_between(num_est, train_mean - train_std, train_mean + train_std, color=\"gray\")\n",
    "plt.fill_between(num_est, test_mean - test_std, test_mean + test_std, color=\"gainsboro\")\n",
    "plt.title(\"Validation Curve With Random Forest\")\n",
    "plt.xlabel(\"Number Of Trees\")\n",
    "plt.ylabel(\"Accuracy Score\")\n",
    "plt.tight_layout()\n",
    "plt.legend(loc=\"best\")\n",
    "plt.show()"
   ]
  },
  {
   "cell_type": "markdown",
   "metadata": {},
   "source": [
    "The learning curve flattens pretty much after 50 trees, so we proceed with 50 trees"
   ]
  },
  {
   "cell_type": "code",
   "execution_count": 15,
   "metadata": {},
   "outputs": [
    {
     "name": "stdout",
     "output_type": "stream",
     "text": [
      "Accuracy of Random Forest classifier on training set: 1.00\n",
      "Accuracy of Random Forest classifier on validation set: 0.85\n"
     ]
    }
   ],
   "source": [
    "#Applying best model\n",
    "rf = RandomForestClassifier(n_estimators = 50)\n",
    "rf.fit(X_train, Y_train)\n",
    "\n",
    "print('Accuracy of Random Forest classifier on training set: {:.2f}'\n",
    "     .format(rf.score(X_train, Y_train)))\n",
    "print('Accuracy of Random Forest classifier on validation set: {:.2f}'\n",
    "     .format(rf.score(X_val, Y_val)))"
   ]
  },
  {
   "cell_type": "code",
   "execution_count": 16,
   "metadata": {},
   "outputs": [
    {
     "name": "stdout",
     "output_type": "stream",
     "text": [
      "0.85\n"
     ]
    }
   ],
   "source": [
    "rf_acc = round((rf.score(X_val, Y_val)),2)\n",
    "print(rf_acc)"
   ]
  },
  {
   "cell_type": "code",
   "execution_count": 17,
   "metadata": {},
   "outputs": [
    {
     "name": "stdout",
     "output_type": "stream",
     "text": [
      "AUC for random forest: 0.90\n",
      "F1 score for random forest: 0.67\n"
     ]
    }
   ],
   "source": [
    "#Performance metrics \n",
    "probs_rf = rf.predict_proba(X_val)  \n",
    "probs_rf = probs_rf[:, 1]  \n",
    "fper, tper, thresholds = roc_curve(Y_val, probs_rf) \n",
    "#plot_roc_curve(fper, tper)\n",
    "auc_rf = roc_auc_score(Y_val, probs_rf)\n",
    "print('AUC for random forest: %.2f' % auc_rf)\n",
    "y_pred = rf.predict(X_val)\n",
    "f1_rf = f1_score(y_pred, Y_val)\n",
    "print('F1 score for random forest: %.2f' % f1_rf)"
   ]
  },
  {
   "cell_type": "markdown",
   "metadata": {},
   "source": [
    "### Model - 4 : Support Vector Machines"
   ]
  },
  {
   "cell_type": "code",
   "execution_count": null,
   "metadata": {},
   "outputs": [],
   "source": [
    "#Hyperparameter tuning\n",
    "C = [50, 10, 1.0, 0.1, 0.01]\n",
    "gamma = ['scale','auto']\n",
    "grid = dict(C=C,gamma=gamma)\n",
    "# cv = RepeatedStratifiedKFold(n_splits=10, n_repeats=3, random_state=1)\n",
    "grid_search = GridSearchCV(estimator=SVC(), param_grid=grid, n_jobs=-1,scoring='accuracy',error_score=0)\n",
    "grid_result = grid_search.fit(X_train, Y_train)\n",
    "print(\"Best: %f using %s\" % (grid_result.best_score_, grid_result.best_params_))\n"
   ]
  },
  {
   "cell_type": "code",
   "execution_count": 18,
   "metadata": {},
   "outputs": [
    {
     "name": "stdout",
     "output_type": "stream",
     "text": [
      "Accuracy of SVM classifier on training set: 0.80\n",
      "Accuracy of SVM classifier on validation set: 0.80\n"
     ]
    }
   ],
   "source": [
    "#Applying best model\n",
    "svm = SVC(kernel = 'rbf',C=10,gamma='scale',probability=True)\n",
    "svm.fit(X_train, Y_train)\n",
    "\n",
    "print('Accuracy of SVM classifier on training set: {:.2f}'\n",
    "     .format(svm.score(X_train, Y_train)))\n",
    "print('Accuracy of SVM classifier on validation set: {:.2f}'\n",
    "     .format(svm.score(X_val, Y_val)))"
   ]
  },
  {
   "cell_type": "code",
   "execution_count": 19,
   "metadata": {},
   "outputs": [
    {
     "name": "stdout",
     "output_type": "stream",
     "text": [
      "0.8\n"
     ]
    }
   ],
   "source": [
    "svm_acc = round((svm.score(X_val, Y_val)),2)\n",
    "print(svm_acc)"
   ]
  },
  {
   "cell_type": "code",
   "execution_count": 20,
   "metadata": {},
   "outputs": [
    {
     "name": "stdout",
     "output_type": "stream",
     "text": [
      "AUC for svm: 0.64\n",
      "F1 score for svm: 0.31\n"
     ]
    }
   ],
   "source": [
    "#Performance metrics\n",
    "probs_svm = svm.predict_proba(X_val)  \n",
    "probs_svm = probs_svm[:, 1]  \n",
    "fper, tper, thresholds = roc_curve(Y_val, probs_svm) \n",
    "#plot_roc_curve(fper, tper)\n",
    "auc_svm = roc_auc_score(Y_val, probs_svm)\n",
    "print('AUC for svm: %.2f' % auc_svm)\n",
    "y_pred = svm.predict(X_val)\n",
    "f1_svm = f1_score(y_pred, Y_val)\n",
    "print('F1 score for svm: %.2f' % f1_svm)"
   ]
  },
  {
   "cell_type": "markdown",
   "metadata": {},
   "source": [
    "### Model - 5 : Gradient Boosting"
   ]
  },
  {
   "cell_type": "code",
   "execution_count": null,
   "metadata": {},
   "outputs": [],
   "source": [
    "#Hyperparameter tuning\n",
    "n_estimators = [10, 100, 1000]\n",
    "learning_rate = [0.001, 0.01, 0.1]\n",
    "max_depth = [3, 7, 9]\n",
    "grid = dict(learning_rate=learning_rate, n_estimators=n_estimators, max_depth=max_depth)\n",
    "# cv = RepeatedStratifiedKFold(n_splits=10, n_repeats=3, random_state=1)\n",
    "grid_search = RandomizedSearchCV(GradientBoostingClassifier(), grid, random_state=1,n_iter=100,cv=3,verbose=0,n_jobs=-1)\n",
    "grid_result = grid_search.fit(X_train, Y_train)\n",
    "#print(\"Best: %f using %s\" % (grid_result.best_score_, grid_result.best_params_))\n",
    "grid_result.best_params_"
   ]
  },
  {
   "cell_type": "code",
   "execution_count": 21,
   "metadata": {},
   "outputs": [
    {
     "name": "stdout",
     "output_type": "stream",
     "text": [
      "Accuracy of Gradient Boosting Classifier on training set: 0.90\n",
      "Accuracy of Gradient Boosting Classifier on validation set: 0.87\n"
     ]
    }
   ],
   "source": [
    "#Applying best model\n",
    "gb = GradientBoostingClassifier(n_estimators=1000, max_depth=3,learning_rate=0.1)\n",
    "gb.fit(X_train, Y_train)\n",
    "\n",
    "print('Accuracy of Gradient Boosting Classifier on training set: {:.2f}'\n",
    "     .format(gb.score(X_train, Y_train)))\n",
    "print('Accuracy of Gradient Boosting Classifier on validation set: {:.2f}'\n",
    "     .format(gb.score(X_val, Y_val)))"
   ]
  },
  {
   "cell_type": "code",
   "execution_count": 22,
   "metadata": {},
   "outputs": [
    {
     "name": "stdout",
     "output_type": "stream",
     "text": [
      "0.87\n"
     ]
    }
   ],
   "source": [
    "gb_acc = round((gb.score(X_val, Y_val)),2)\n",
    "print(gb_acc)"
   ]
  },
  {
   "cell_type": "code",
   "execution_count": 23,
   "metadata": {},
   "outputs": [
    {
     "data": {
      "image/png": "[encoded data removed]",
      "text/plain": [
       "<Figure size 432x288 with 1 Axes>"
      ]
     },
     "metadata": {
      "needs_background": "light"
     },
     "output_type": "display_data"
    },
    {
     "name": "stdout",
     "output_type": "stream",
     "text": [
      "AUC for gradient boosting: 0.92\n",
      "F1 score for gradient boosting: 0.71\n"
     ]
    }
   ],
   "source": [
    "#Performance metrics\n",
    "probs_gb = gb.predict_proba(X_val)  \n",
    "probs_gb = probs_gb[:, 1]  \n",
    "fper, tper, thresholds = roc_curve(Y_val, probs_gb) \n",
    "plot_roc_curve(fper, tper)\n",
    "auc_gb = roc_auc_score(Y_val, probs_gb)\n",
    "print('AUC for gradient boosting: %.2f' % auc_gb)\n",
    "y_pred = gb.predict(X_val)\n",
    "f1_gb = f1_score(y_pred, Y_val)\n",
    "print('F1 score for gradient boosting: %.2f' % f1_gb)"
   ]
  },
  {
   "cell_type": "code",
   "execution_count": 24,
   "metadata": {},
   "outputs": [
    {
     "name": "stdout",
     "output_type": "stream",
     "text": [
      "Confusion Matrix:\n",
      "[[6953  464]\n",
      " [ 794 1558]]\n",
      "Classification Report\n",
      "              precision    recall  f1-score   support\n",
      "\n",
      "           0       0.90      0.94      0.92      7417\n",
      "           1       0.77      0.66      0.71      2352\n",
      "\n",
      "    accuracy                           0.87      9769\n",
      "   macro avg       0.83      0.80      0.81      9769\n",
      "weighted avg       0.87      0.87      0.87      9769\n",
      "\n"
     ]
    }
   ],
   "source": [
    "# Confusion matrix for gradient boosting\n",
    "predictions = gb.predict(X_val)\n",
    "\n",
    "print(\"Confusion Matrix:\")\n",
    "print(confusion_matrix(Y_val, predictions))\n",
    "\n",
    "print(\"Classification Report\")\n",
    "print(classification_report(Y_val, predictions))"
   ]
  },
  {
   "cell_type": "markdown",
   "metadata": {},
   "source": [
    "### Model - 6 : Naive Bayes"
   ]
  },
  {
   "cell_type": "code",
   "execution_count": 25,
   "metadata": {},
   "outputs": [
    {
     "name": "stdout",
     "output_type": "stream",
     "text": [
      "Accuracy of Naive Bayes Classifier on training set: 0.80\n",
      "Accuracy of Naive Bayes Classifier on validation set: 0.79\n"
     ]
    }
   ],
   "source": [
    "#Applying model with default parameters\n",
    "nb = GaussianNB()\n",
    "nb.fit(X_train, Y_train)\n",
    "\n",
    "print('Accuracy of Naive Bayes Classifier on training set: {:.2f}'\n",
    "     .format(nb.score(X_train, Y_train)))\n",
    "print('Accuracy of Naive Bayes Classifier on validation set: {:.2f}'\n",
    "     .format(nb.score(X_val, Y_val)))"
   ]
  },
  {
   "cell_type": "code",
   "execution_count": 26,
   "metadata": {},
   "outputs": [
    {
     "name": "stdout",
     "output_type": "stream",
     "text": [
      "0.79\n"
     ]
    }
   ],
   "source": [
    "nb_acc = round((nb.score(X_val, Y_val)),2)\n",
    "print(nb_acc)"
   ]
  },
  {
   "cell_type": "code",
   "execution_count": 27,
   "metadata": {},
   "outputs": [
    {
     "name": "stdout",
     "output_type": "stream",
     "text": [
      "AUC for naive bayes: 0.84\n",
      "F1 score for naive bayes: 0.41\n"
     ]
    }
   ],
   "source": [
    "#performance metrics\n",
    "probs_nb = nb.predict_proba(X_val)  \n",
    "probs_nb = probs_nb[:, 1]  \n",
    "fper, tper, thresholds = roc_curve(Y_val, probs_nb) \n",
    "#plot_roc_curve(fper, tper)\n",
    "auc_nb = roc_auc_score(Y_val, probs_nb)\n",
    "print('AUC for naive bayes: %.2f' % auc_nb)\n",
    "y_pred = nb.predict(X_val)\n",
    "f1_nb = f1_score(y_pred, Y_val)\n",
    "print('F1 score for naive bayes: %.2f' % f1_nb)"
   ]
  },
  {
   "cell_type": "markdown",
   "metadata": {},
   "source": [
    "### Model - 7 :  Xgboost"
   ]
  },
  {
   "cell_type": "code",
   "execution_count": null,
   "metadata": {},
   "outputs": [],
   "source": [
    "#Hyperparameter tuning\n",
    "n_estimators = [100,200,400,600]\n",
    "max_depth = [2, 4, 6, 8]\n",
    "param_grid = dict(n_estimators=n_estimators,max_depth=max_depth)\n",
    "#kfold = StratifiedKFold(n_splits=10, shuffle=True, random_state=7)\n",
    "grid_search = GridSearchCV(XGBClassifier(), param_grid, scoring=\"neg_log_loss\", n_jobs=-1)\n",
    "grid_result = grid_search.fit(X_train, Y_train)\n",
    "print(\"Best: %f using %s\" % (grid_result.best_score_, grid_result.best_params_))"
   ]
  },
  {
   "cell_type": "code",
   "execution_count": null,
   "metadata": {},
   "outputs": [],
   "source": [
    "means = grid_result.cv_results_['mean_test_score']\n",
    "stds = grid_result.cv_results_['std_test_score']\n",
    "params = grid_result.cv_results_['params']\n",
    "for mean, stdev, param in zip(means, stds, params):\n",
    "\tprint(\"%f (%f) with: %r\" % (mean, stdev, param))"
   ]
  },
  {
   "cell_type": "code",
   "execution_count": 28,
   "metadata": {},
   "outputs": [
    {
     "name": "stdout",
     "output_type": "stream",
     "text": [
      "Accuracy of XGB Classifier on training set: 0.90\n",
      "Accuracy of XGB Classifier on validation set: 0.87\n"
     ]
    }
   ],
   "source": [
    "#Applying best model\n",
    "xgb=XGBClassifier(max_depth=6,n_estimators=200)\n",
    "xgb.fit(X_train,Y_train)\n",
    "print('Accuracy of XGB Classifier on training set: {:.2f}'\n",
    "     .format(xgb.score(X_train, Y_train)))\n",
    "print('Accuracy of XGB Classifier on validation set: {:.2f}'\n",
    "     .format(xgb.score(X_val, Y_val)))"
   ]
  },
  {
   "cell_type": "code",
   "execution_count": 29,
   "metadata": {},
   "outputs": [
    {
     "name": "stdout",
     "output_type": "stream",
     "text": [
      "0.87\n"
     ]
    }
   ],
   "source": [
    "xgb_acc = round((xgb.score(X_val, Y_val)),2)\n",
    "print(xgb_acc)"
   ]
  },
  {
   "cell_type": "code",
   "execution_count": 30,
   "metadata": {},
   "outputs": [
    {
     "data": {
      "image/png": "[encoded data removed]",
      "text/plain": [
       "<Figure size 432x288 with 1 Axes>"
      ]
     },
     "metadata": {
      "needs_background": "light"
     },
     "output_type": "display_data"
    },
    {
     "name": "stdout",
     "output_type": "stream",
     "text": [
      "AUC for xgboost: 0.93\n",
      "F1 score for xgboost: 0.71\n"
     ]
    }
   ],
   "source": [
    "#Performance metrics\n",
    "probs_xgb = xgb.predict_proba(X_val)  \n",
    "probs_xgb = probs_xgb[:, 1]  \n",
    "fper, tper, thresholds = roc_curve(Y_val, probs_xgb) \n",
    "plot_roc_curve(fper, tper)\n",
    "auc_xgb = roc_auc_score(Y_val, probs_xgb)\n",
    "print('AUC for xgboost: %.2f' % auc_xgb)\n",
    "y_pred = xgb.predict(X_val)\n",
    "f1_xgb = f1_score(y_pred, Y_val)\n",
    "print('F1 score for xgboost: %.2f' % f1_xgb)"
   ]
  },
  {
   "cell_type": "code",
   "execution_count": 31,
   "metadata": {},
   "outputs": [
    {
     "name": "stdout",
     "output_type": "stream",
     "text": [
      "Confusion Matrix:\n",
      "[[6975  442]\n",
      " [ 799 1553]]\n",
      "Classification Report\n",
      "              precision    recall  f1-score   support\n",
      "\n",
      "           0       0.90      0.94      0.92      7417\n",
      "           1       0.78      0.66      0.71      2352\n",
      "\n",
      "    accuracy                           0.87      9769\n",
      "   macro avg       0.84      0.80      0.82      9769\n",
      "weighted avg       0.87      0.87      0.87      9769\n",
      "\n"
     ]
    }
   ],
   "source": [
    "#Confusion matrix for xgboost\n",
    "predictions = xgb.predict(X_val)\n",
    "\n",
    "print(\"Confusion Matrix:\")\n",
    "print(confusion_matrix(Y_val, predictions))\n",
    "\n",
    "print(\"Classification Report\")\n",
    "print(classification_report(Y_val, predictions))"
   ]
  },
  {
   "cell_type": "markdown",
   "metadata": {},
   "source": [
    "# 4. Trying upsampling minority class"
   ]
  },
  {
   "cell_type": "code",
   "execution_count": null,
   "metadata": {},
   "outputs": [],
   "source": [
    "Y_train.value_counts()"
   ]
  },
  {
   "cell_type": "markdown",
   "metadata": {},
   "source": [
    "As we can see the minority class (>50K) has about only 1/3rd observations in the data. We try raising the number of observations of minority class to about 40% of the entire dataset using SMOTE sampling"
   ]
  },
  {
   "cell_type": "code",
   "execution_count": null,
   "metadata": {},
   "outputs": [],
   "source": [
    "smt = SMOTE(sampling_strategy=0.4)\n",
    "X2_train, Y2_train = smt.fit_sample(X_train, Y_train)\n",
    "np.bincount(Y2_train)"
   ]
  },
  {
   "cell_type": "markdown",
   "metadata": {},
   "source": [
    "## 4.1. Applying xgboost to new upsampled dataset"
   ]
  },
  {
   "cell_type": "code",
   "execution_count": null,
   "metadata": {
    "scrolled": true
   },
   "outputs": [],
   "source": [
    "xgb2=XGBClassifier(max_depth=6,n_estimators=200)\n",
    "xgb2.fit(X2_train,Y2_train)\n",
    "print('Accuracy of XGB Classifier on training set: {:.2f}'\n",
    "     .format(xgb2.score(X2_train, Y2_train)))\n",
    "print('Accuracy of XGB Classifier on validation set: {:.2f}'\n",
    "     .format(xgb2.score(X_val, Y_val)))"
   ]
  },
  {
   "cell_type": "code",
   "execution_count": null,
   "metadata": {
    "scrolled": true
   },
   "outputs": [],
   "source": [
    "probs = xgb2.predict_proba(X_val)  \n",
    "probs = probs[:, 1]  \n",
    "fper, tper, thresholds = roc_curve(Y_val, probs) \n",
    "plot_roc_curve(fper, tper)\n",
    "auc_xgb2 = roc_auc_score(Y_val, probs)\n",
    "print('AUC for xgboost on upsampled data: %.2f' % auc_xgb2)\n",
    "y_pred = xgb2.predict(X_val)\n",
    "f1_xgb2 = f1_score(y_pred, Y_val)\n",
    "print('F1 score for xgboost on upsampled data: %.2f' % f1_xgb2)"
   ]
  },
  {
   "cell_type": "markdown",
   "metadata": {},
   "source": [
    "## 4.2. Applying random forest on up-sampled data"
   ]
  },
  {
   "cell_type": "code",
   "execution_count": null,
   "metadata": {},
   "outputs": [],
   "source": [
    "rf2 = RandomForestClassifier(n_estimators = 50)\n",
    "rf2.fit(X2_train, Y2_train)\n",
    "\n",
    "print('Accuracy of Random Forest classifier on training set: {:.2f}'\n",
    "     .format(rf2.score(X2_train, Y2_train)))\n",
    "print('Accuracy of Random Forest classifier on validation set: {:.2f}'\n",
    "     .format(rf2.score(X_val, Y_val)))"
   ]
  },
  {
   "cell_type": "code",
   "execution_count": null,
   "metadata": {},
   "outputs": [],
   "source": [
    "probs = rf2.predict_proba(X_val)  \n",
    "probs = probs[:, 1]  \n",
    "fper, tper, thresholds = roc_curve(Y_val, probs) \n",
    "plot_roc_curve(fper, tper)\n",
    "auc_rf2 = roc_auc_score(Y_val, probs)\n",
    "print('AUC for random forests on upsampled data: %.2f' % auc_rf2)\n",
    "y_pred = rf2.predict(X_val)\n",
    "f1_rf2 = f1_score(y_pred, Y_val)\n",
    "print('F1 score for random forests on upsampled data: %.2f' % f1_rf2)"
   ]
  },
  {
   "cell_type": "markdown",
   "metadata": {},
   "source": [
    "Upsampling the minority class has not improved the model performance significantly. So we proceed to compare models without upsampling."
   ]
  },
  {
   "cell_type": "markdown",
   "metadata": {},
   "source": [
    "# 5. Best model\n",
    "\n",
    "### Xgboost/Gradient boosting"
   ]
  },
  {
   "cell_type": "code",
   "execution_count": 32,
   "metadata": {},
   "outputs": [
    {
     "data": {
      "text/html": [
       "<div>\n",
       "<style scoped>\n",
       "    .dataframe tbody tr th:only-of-type {\n",
       "        vertical-align: middle;\n",
       "    }\n",
       "\n",
       "    .dataframe tbody tr th {\n",
       "        vertical-align: top;\n",
       "    }\n",
       "\n",
       "    .dataframe thead th {\n",
       "        text-align: right;\n",
       "    }\n",
       "</style>\n",
       "<table border=\"1\" class=\"dataframe\">\n",
       "  <thead>\n",
       "    <tr style=\"text-align: right;\">\n",
       "      <th></th>\n",
       "      <th>Model</th>\n",
       "      <th>Validation Accuracy</th>\n",
       "      <th>AUC</th>\n",
       "      <th>F1 Score</th>\n",
       "    </tr>\n",
       "  </thead>\n",
       "  <tbody>\n",
       "    <tr>\n",
       "      <th>6</th>\n",
       "      <td>Extreme Gradient Boosting</td>\n",
       "      <td>0.87</td>\n",
       "      <td>0.925803</td>\n",
       "      <td>0.714516</td>\n",
       "    </tr>\n",
       "    <tr>\n",
       "      <th>5</th>\n",
       "      <td>Gradient Boosting</td>\n",
       "      <td>0.87</td>\n",
       "      <td>0.924101</td>\n",
       "      <td>0.712391</td>\n",
       "    </tr>\n",
       "    <tr>\n",
       "      <th>3</th>\n",
       "      <td>Random Forest</td>\n",
       "      <td>0.85</td>\n",
       "      <td>0.898939</td>\n",
       "      <td>0.671879</td>\n",
       "    </tr>\n",
       "    <tr>\n",
       "      <th>4</th>\n",
       "      <td>Naive Bayes</td>\n",
       "      <td>0.79</td>\n",
       "      <td>0.835515</td>\n",
       "      <td>0.411023</td>\n",
       "    </tr>\n",
       "    <tr>\n",
       "      <th>1</th>\n",
       "      <td>KNN</td>\n",
       "      <td>0.78</td>\n",
       "      <td>0.665746</td>\n",
       "      <td>0.397026</td>\n",
       "    </tr>\n",
       "    <tr>\n",
       "      <th>0</th>\n",
       "      <td>Support Vector Classifier</td>\n",
       "      <td>0.80</td>\n",
       "      <td>0.638439</td>\n",
       "      <td>0.311003</td>\n",
       "    </tr>\n",
       "    <tr>\n",
       "      <th>2</th>\n",
       "      <td>Logistic Regression</td>\n",
       "      <td>0.80</td>\n",
       "      <td>0.570070</td>\n",
       "      <td>0.377193</td>\n",
       "    </tr>\n",
       "  </tbody>\n",
       "</table>\n",
       "</div>"
      ],
      "text/plain": [
       "                       Model  Validation Accuracy       AUC  F1 Score\n",
       "6  Extreme Gradient Boosting                 0.87  0.925803  0.714516\n",
       "5          Gradient Boosting                 0.87  0.924101  0.712391\n",
       "3              Random Forest                 0.85  0.898939  0.671879\n",
       "4                Naive Bayes                 0.79  0.835515  0.411023\n",
       "1                        KNN                 0.78  0.665746  0.397026\n",
       "0  Support Vector Classifier                 0.80  0.638439  0.311003\n",
       "2        Logistic Regression                 0.80  0.570070  0.377193"
      ]
     },
     "execution_count": 32,
     "metadata": {},
     "output_type": "execute_result"
    }
   ],
   "source": [
    "models = pd.DataFrame({\n",
    "    'Model': ['Support Vector Classifier', 'KNN', 'Logistic Regression', \n",
    "              'Random Forest', 'Naive Bayes', \n",
    "              'Gradient Boosting','Extreme Gradient Boosting' \n",
    "              ],\n",
    "    'Validation Accuracy': [svm_acc, knn_acc, lr_acc, \n",
    "              rf_acc, nb_acc, gb_acc, \n",
    "              xgb_acc],\n",
    "    'AUC': [auc_svm,auc_knn,auc_lr,auc_rf,auc_nb,auc_gb,auc_xgb],\n",
    "    'F1 Score': [f1_svm,f1_knn,f1_lr,f1_rf,f1_nb,f1_gb,f1_xgb]})\n",
    "models.sort_values(by='AUC', ascending=False)\n",
    "\n"
   ]
  },
  {
   "cell_type": "markdown",
   "metadata": {},
   "source": [
    "Extreme gradient boosting yields the best performance in terms of AUROC and F1 score as well as accuracy on the validation set.\n",
    "\n",
    "We choose xgboost as the best model."
   ]
  },
  {
   "cell_type": "markdown",
   "metadata": {},
   "source": [
    "# 6. Ensemble model\n",
    "\n",
    "We try making an ensemble model to see if it improves our prediction accuracy.\n",
    "\n",
    "We make an ensemble model of 4 models: naive bayes, random forests, xgboost and KNN\n",
    "    \n",
    "Soft voting is used to form the ensemble model"
   ]
  },
  {
   "cell_type": "code",
   "execution_count": null,
   "metadata": {},
   "outputs": [],
   "source": [
    "from sklearn.ensemble import VotingClassifier\n",
    "model_s = VotingClassifier(estimators=[('nb', nb),('rf',rf),('xgb',xgb),('knn',knn)], voting='soft')\n",
    "model_s.fit(X_train,Y_train)\n",
    "model_s.score(X_val,Y_val)"
   ]
  },
  {
   "cell_type": "code",
   "execution_count": null,
   "metadata": {},
   "outputs": [],
   "source": [
    "probs = model_s.predict_proba(X_val)  \n",
    "probs = probs[:, 1]  \n",
    "fper, tper, thresholds = roc_curve(Y_val, probs) \n",
    "plot_roc_curve(fper, tper)\n",
    "auc_rf2 = roc_auc_score(Y_val, probs)\n",
    "print('AUC for ensemble model: %.2f' % auc_rf2)\n",
    "y_pred = model_s.predict(X_val)\n",
    "f1_rf2 = f1_score(y_pred, Y_val)\n",
    "print('F1 score for ensemble model: %.2f' % f1_rf2)"
   ]
  },
  {
   "cell_type": "markdown",
   "metadata": {},
   "source": [
    "Using an ensemble model has not improved but reduced the model performance, hence, we proceed with xgboost as the best model and use it for predicting on the test dataset"
   ]
  },
  {
   "cell_type": "markdown",
   "metadata": {},
   "source": [
    "# 7. Predicting on Test dataset"
   ]
  },
  {
   "cell_type": "markdown",
   "metadata": {},
   "source": [
    "Preparing test data:\n",
    "    \n",
    "Encoding the output variable(class) as 0 and 1\n",
    "Converting variables into appropriate data types\n",
    "Imputing null values\n",
    "One-hot encoding categorical variables"
   ]
  },
  {
   "cell_type": "code",
   "execution_count": 33,
   "metadata": {},
   "outputs": [],
   "source": [
    "test = test.sample(frac=1).reset_index(drop=True)\n",
    "test['income'] = 0\n",
    "test['income'][test['class'] == ' <=50K.'] = 0\n",
    "test['income'][test['class'] == ' >50K.'] = 1"
   ]
  },
  {
   "cell_type": "code",
   "execution_count": null,
   "metadata": {},
   "outputs": [],
   "source": [
    "#test.head()"
   ]
  },
  {
   "cell_type": "code",
   "execution_count": 34,
   "metadata": {},
   "outputs": [],
   "source": [
    "test = test.drop(['class'],axis = 1)\n",
    "test[['workclass', 'education','marital-status','occupation','relationship','race','sex','native-country']] = test[['workclass', 'education','marital-status','occupation','relationship','race','sex','native-country']].astype('category') \n",
    "test.replace(' ?', np.nan, inplace= True)\n",
    "test['workclass'] = test['workclass'].cat.add_categories('None')\n",
    "test['workclass'].fillna('None', inplace =True) \n",
    "test['occupation'] = test['occupation'].cat.add_categories('Unemployed')\n",
    "test['occupation'].fillna('Unemployed', inplace =True) \n",
    "test['native-country'] = test['native-country'].cat.add_categories('Unknown')\n",
    "test['native-country'].fillna('Unknown', inplace =True)\n",
    "X_test = test.loc[:, test.columns != 'income']\n",
    "Y_test = test['income']\n",
    "Y_test = Y_test.astype('category')\n",
    "label = LabelEncoder()\n",
    "X_test = X_test.drop(columns = ['native-country'],axis = 1)\n",
    "X_enc = X_test.select_dtypes(include = ['category'])\n",
    "X_enc = pd.get_dummies(X_enc,columns = ['workclass','education','marital-status','occupation','relationship',\n",
    "                                       'race','sex'])\n",
    "X_copy = X_test.drop(columns = ['workclass','education','marital-status','occupation','relationship',\n",
    "                                       'race','sex'],axis = 1)\n",
    "X_enc = X_enc.apply(label.fit_transform)\n",
    "X_test = pd.concat([X_copy,X_enc],axis = 1)"
   ]
  },
  {
   "cell_type": "markdown",
   "metadata": {},
   "source": [
    "## 7.1. Applying Xgboost on test data set"
   ]
  },
  {
   "cell_type": "code",
   "execution_count": 35,
   "metadata": {},
   "outputs": [
    {
     "name": "stdout",
     "output_type": "stream",
     "text": [
      "Accuracy of XGB Classifier on test dataset: 0.87\n"
     ]
    }
   ],
   "source": [
    "print('Accuracy of XGB Classifier on test dataset: {:.2f}'\n",
    "     .format(xgb.score(X_test, Y_test)))"
   ]
  },
  {
   "cell_type": "code",
   "execution_count": 36,
   "metadata": {},
   "outputs": [
    {
     "data": {
      "image/png": "[encoded data removed]",
      "text/plain": [
       "<Figure size 432x288 with 1 Axes>"
      ]
     },
     "metadata": {
      "needs_background": "light"
     },
     "output_type": "display_data"
    },
    {
     "name": "stdout",
     "output_type": "stream",
     "text": [
      "AUC for xgboost on test dataset: 0.93\n",
      "F1 score for xgboost on test dataset: 0.70\n"
     ]
    }
   ],
   "source": [
    "probs_xgb_test = xgb.predict_proba(X_test)  \n",
    "probs_xgb_test = probs_xgb_test[:, 1]  \n",
    "fper, tper, thresholds = roc_curve(Y_test, probs_xgb_test) \n",
    "plot_roc_curve(fper, tper)\n",
    "auc_xgb_test = roc_auc_score(Y_test, probs_xgb_test)\n",
    "print('AUC for xgboost on test dataset: %.2f' % auc_xgb_test)\n",
    "y_pred = xgb.predict(X_test)\n",
    "f1_xgb_test = f1_score(y_pred, Y_test)\n",
    "print('F1 score for xgboost on test dataset: %.2f' % f1_xgb_test)"
   ]
  },
  {
   "cell_type": "code",
   "execution_count": 37,
   "metadata": {},
   "outputs": [
    {
     "name": "stdout",
     "output_type": "stream",
     "text": [
      "Confusion Matrix:\n",
      "[[11705   730]\n",
      " [ 1363  2483]]\n",
      "Classification Report\n",
      "              precision    recall  f1-score   support\n",
      "\n",
      "           0       0.90      0.94      0.92     12435\n",
      "           1       0.77      0.65      0.70      3846\n",
      "\n",
      "    accuracy                           0.87     16281\n",
      "   macro avg       0.83      0.79      0.81     16281\n",
      "weighted avg       0.87      0.87      0.87     16281\n",
      "\n"
     ]
    }
   ],
   "source": [
    "#Confusion matrix\n",
    "predictions = xgb.predict(X_test)\n",
    "\n",
    "print(\"Confusion Matrix:\")\n",
    "print(confusion_matrix(Y_test, predictions))\n",
    "\n",
    "print(\"Classification Report\")\n",
    "print(classification_report(Y_test, predictions))"
   ]
  },
  {
   "cell_type": "markdown",
   "metadata": {},
   "source": [
    "The model performs quite well with an AUROC score of 0.93 and a F1 score of 0.71\n",
    "\n",
    "For class '>50K' the precision and recall are lesser than that of '<=50K'. This maybe due to class imbalance in the dataset."
   ]
  },
  {
   "cell_type": "markdown",
   "metadata": {},
   "source": [
    "# 8. Important variables"
   ]
  },
  {
   "cell_type": "code",
   "execution_count": 38,
   "metadata": {},
   "outputs": [
    {
     "data": {
      "text/plain": [
       "<matplotlib.axes._subplots.AxesSubplot at 0x24452845278>"
      ]
     },
     "execution_count": 38,
     "metadata": {},
     "output_type": "execute_result"
    },
    {
     "data": {
      "image/png": "[encoded data removed]",
      "text/plain": [
       "<Figure size 1008x504 with 1 Axes>"
      ]
     },
     "metadata": {
      "needs_background": "light"
     },
     "output_type": "display_data"
    }
   ],
   "source": [
    "from xgboost import plot_importance\n",
    "plt.rcParams[\"figure.figsize\"] = (14, 7)\n",
    "plot_importance(xgb,max_num_features=10, color='blue') "
   ]
  },
  {
   "cell_type": "markdown",
   "metadata": {},
   "source": [
    "### The most important varibles in predicting the income class are:\n",
    "\n",
    "(1) fnlwgt\n",
    "(2) Age \n",
    "(3) Hours per week\n",
    "(4) Capital gain\n",
    "(5) Capital loss\n",
    "(6) Education number/education\n",
    "(7) Marital status\n",
    "(8) Workclass\n",
    "\n",
    "While description of 'fnlwgt' is not available, it remains the variable which carries the most information for predicting the income class of a person. 'Age' was expected to be important as age determines a lot of other factors like education, capital gain, capital loss and also martial-status and workclass to some extent.\n",
    "\n",
    "Capital gain and capital loss directly affect the income of a person and are rightfully regarded important by our model.\n",
    "\n",
    "Education of a person also is highly vital in deciding the income class of a person. As we saw from the eda plots above, a person with only a high-school degree is highly likely to earn less than 50K and one with a bachelors degree earns more than 50K most of the times.\n",
    "\n",
    "Inclusion of Marital-status and Workclass was expected because in both the income classes, each of these variables has a category which has the maximum obeservations which might help our model in predicting the income class of a person. \n",
    "\n",
    "\n"
   ]
  }
 ],
 "metadata": {
  "kernelspec": {
   "display_name": "Python 3",
   "language": "python",
   "name": "python3"
  },
  "language_info": {
   "codemirror_mode": {
    "name": "ipython",
    "version": 3
   },
   "file_extension": ".py",
   "mimetype": "text/x-python",
   "name": "python",
   "nbconvert_exporter": "python",
   "pygments_lexer": "ipython3",
   "version": "3.6.10"
  }
 },
 "nbformat": 4,
 "nbformat_minor": 2
}
